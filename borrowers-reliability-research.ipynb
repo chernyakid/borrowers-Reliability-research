{
 "cells": [
  {
   "cell_type": "markdown",
   "id": "2277ae72",
   "metadata": {},
   "source": [
    "# Исследование надёжности заёмщиков\n",
    "\n",
    "**Цель исследования** - определить, как влияет семейное положение и наличие детей у клиента на своевременное погашение кредита. \n",
    "\n",
    "**Заказчик исследования** - отдел кредитования банка. \n",
    "\n",
    "Исследование базируется на статистике, предоставленной банком и отражающей платежеспособность клиентов. Результаты исследования будут применены при создании модели кредитного скоринга - системы, оценивающей способность заемщика вернуть кредит."
   ]
  },
  {
   "cell_type": "markdown",
   "id": "8c974e58",
   "metadata": {},
   "source": [
    "## Обзор данных"
   ]
  },
  {
   "cell_type": "code",
   "execution_count": 1,
   "id": "61af6459",
   "metadata": {},
   "outputs": [],
   "source": [
    "# Импортируем библиотеку pandas\n",
    "import pandas as pd"
   ]
  },
  {
   "cell_type": "code",
   "execution_count": 2,
   "id": "f9058460",
   "metadata": {},
   "outputs": [],
   "source": [
    "# Прочитаем csv-файл\n",
    "data = pd.read_csv('data_bank.csv')"
   ]
  },
  {
   "cell_type": "code",
   "execution_count": 3,
   "id": "bf953093",
   "metadata": {},
   "outputs": [
    {
     "data": {
      "text/html": [
       "<div>\n",
       "<style scoped>\n",
       "    .dataframe tbody tr th:only-of-type {\n",
       "        vertical-align: middle;\n",
       "    }\n",
       "\n",
       "    .dataframe tbody tr th {\n",
       "        vertical-align: top;\n",
       "    }\n",
       "\n",
       "    .dataframe thead th {\n",
       "        text-align: right;\n",
       "    }\n",
       "</style>\n",
       "<table border=\"1\" class=\"dataframe\">\n",
       "  <thead>\n",
       "    <tr style=\"text-align: right;\">\n",
       "      <th></th>\n",
       "      <th>children</th>\n",
       "      <th>days_employed</th>\n",
       "      <th>dob_years</th>\n",
       "      <th>education</th>\n",
       "      <th>education_id</th>\n",
       "      <th>family_status</th>\n",
       "      <th>family_status_id</th>\n",
       "      <th>gender</th>\n",
       "      <th>income_type</th>\n",
       "      <th>debt</th>\n",
       "      <th>total_income</th>\n",
       "      <th>purpose</th>\n",
       "    </tr>\n",
       "  </thead>\n",
       "  <tbody>\n",
       "    <tr>\n",
       "      <th>0</th>\n",
       "      <td>1</td>\n",
       "      <td>-8437.673028</td>\n",
       "      <td>42</td>\n",
       "      <td>высшее</td>\n",
       "      <td>0</td>\n",
       "      <td>женат / замужем</td>\n",
       "      <td>0</td>\n",
       "      <td>F</td>\n",
       "      <td>сотрудник</td>\n",
       "      <td>0</td>\n",
       "      <td>253875.639453</td>\n",
       "      <td>покупка жилья</td>\n",
       "    </tr>\n",
       "    <tr>\n",
       "      <th>1</th>\n",
       "      <td>1</td>\n",
       "      <td>-4024.803754</td>\n",
       "      <td>36</td>\n",
       "      <td>среднее</td>\n",
       "      <td>1</td>\n",
       "      <td>женат / замужем</td>\n",
       "      <td>0</td>\n",
       "      <td>F</td>\n",
       "      <td>сотрудник</td>\n",
       "      <td>0</td>\n",
       "      <td>112080.014102</td>\n",
       "      <td>приобретение автомобиля</td>\n",
       "    </tr>\n",
       "    <tr>\n",
       "      <th>2</th>\n",
       "      <td>0</td>\n",
       "      <td>-5623.422610</td>\n",
       "      <td>33</td>\n",
       "      <td>Среднее</td>\n",
       "      <td>1</td>\n",
       "      <td>женат / замужем</td>\n",
       "      <td>0</td>\n",
       "      <td>M</td>\n",
       "      <td>сотрудник</td>\n",
       "      <td>0</td>\n",
       "      <td>145885.952297</td>\n",
       "      <td>покупка жилья</td>\n",
       "    </tr>\n",
       "    <tr>\n",
       "      <th>3</th>\n",
       "      <td>3</td>\n",
       "      <td>-4124.747207</td>\n",
       "      <td>32</td>\n",
       "      <td>среднее</td>\n",
       "      <td>1</td>\n",
       "      <td>женат / замужем</td>\n",
       "      <td>0</td>\n",
       "      <td>M</td>\n",
       "      <td>сотрудник</td>\n",
       "      <td>0</td>\n",
       "      <td>267628.550329</td>\n",
       "      <td>дополнительное образование</td>\n",
       "    </tr>\n",
       "    <tr>\n",
       "      <th>4</th>\n",
       "      <td>0</td>\n",
       "      <td>340266.072047</td>\n",
       "      <td>53</td>\n",
       "      <td>среднее</td>\n",
       "      <td>1</td>\n",
       "      <td>гражданский брак</td>\n",
       "      <td>1</td>\n",
       "      <td>F</td>\n",
       "      <td>пенсионер</td>\n",
       "      <td>0</td>\n",
       "      <td>158616.077870</td>\n",
       "      <td>сыграть свадьбу</td>\n",
       "    </tr>\n",
       "    <tr>\n",
       "      <th>5</th>\n",
       "      <td>0</td>\n",
       "      <td>-926.185831</td>\n",
       "      <td>27</td>\n",
       "      <td>высшее</td>\n",
       "      <td>0</td>\n",
       "      <td>гражданский брак</td>\n",
       "      <td>1</td>\n",
       "      <td>M</td>\n",
       "      <td>компаньон</td>\n",
       "      <td>0</td>\n",
       "      <td>255763.565419</td>\n",
       "      <td>покупка жилья</td>\n",
       "    </tr>\n",
       "    <tr>\n",
       "      <th>6</th>\n",
       "      <td>0</td>\n",
       "      <td>-2879.202052</td>\n",
       "      <td>43</td>\n",
       "      <td>высшее</td>\n",
       "      <td>0</td>\n",
       "      <td>женат / замужем</td>\n",
       "      <td>0</td>\n",
       "      <td>F</td>\n",
       "      <td>компаньон</td>\n",
       "      <td>0</td>\n",
       "      <td>240525.971920</td>\n",
       "      <td>операции с жильем</td>\n",
       "    </tr>\n",
       "    <tr>\n",
       "      <th>7</th>\n",
       "      <td>0</td>\n",
       "      <td>-152.779569</td>\n",
       "      <td>50</td>\n",
       "      <td>СРЕДНЕЕ</td>\n",
       "      <td>1</td>\n",
       "      <td>женат / замужем</td>\n",
       "      <td>0</td>\n",
       "      <td>M</td>\n",
       "      <td>сотрудник</td>\n",
       "      <td>0</td>\n",
       "      <td>135823.934197</td>\n",
       "      <td>образование</td>\n",
       "    </tr>\n",
       "    <tr>\n",
       "      <th>8</th>\n",
       "      <td>2</td>\n",
       "      <td>-6929.865299</td>\n",
       "      <td>35</td>\n",
       "      <td>ВЫСШЕЕ</td>\n",
       "      <td>0</td>\n",
       "      <td>гражданский брак</td>\n",
       "      <td>1</td>\n",
       "      <td>F</td>\n",
       "      <td>сотрудник</td>\n",
       "      <td>0</td>\n",
       "      <td>95856.832424</td>\n",
       "      <td>на проведение свадьбы</td>\n",
       "    </tr>\n",
       "    <tr>\n",
       "      <th>9</th>\n",
       "      <td>0</td>\n",
       "      <td>-2188.756445</td>\n",
       "      <td>41</td>\n",
       "      <td>среднее</td>\n",
       "      <td>1</td>\n",
       "      <td>женат / замужем</td>\n",
       "      <td>0</td>\n",
       "      <td>M</td>\n",
       "      <td>сотрудник</td>\n",
       "      <td>0</td>\n",
       "      <td>144425.938277</td>\n",
       "      <td>покупка жилья для семьи</td>\n",
       "    </tr>\n",
       "  </tbody>\n",
       "</table>\n",
       "</div>"
      ],
      "text/plain": [
       "   children  days_employed  dob_years education  education_id  \\\n",
       "0         1   -8437.673028         42    высшее             0   \n",
       "1         1   -4024.803754         36   среднее             1   \n",
       "2         0   -5623.422610         33   Среднее             1   \n",
       "3         3   -4124.747207         32   среднее             1   \n",
       "4         0  340266.072047         53   среднее             1   \n",
       "5         0    -926.185831         27    высшее             0   \n",
       "6         0   -2879.202052         43    высшее             0   \n",
       "7         0    -152.779569         50   СРЕДНЕЕ             1   \n",
       "8         2   -6929.865299         35    ВЫСШЕЕ             0   \n",
       "9         0   -2188.756445         41   среднее             1   \n",
       "\n",
       "      family_status  family_status_id gender income_type  debt   total_income  \\\n",
       "0   женат / замужем                 0      F   сотрудник     0  253875.639453   \n",
       "1   женат / замужем                 0      F   сотрудник     0  112080.014102   \n",
       "2   женат / замужем                 0      M   сотрудник     0  145885.952297   \n",
       "3   женат / замужем                 0      M   сотрудник     0  267628.550329   \n",
       "4  гражданский брак                 1      F   пенсионер     0  158616.077870   \n",
       "5  гражданский брак                 1      M   компаньон     0  255763.565419   \n",
       "6   женат / замужем                 0      F   компаньон     0  240525.971920   \n",
       "7   женат / замужем                 0      M   сотрудник     0  135823.934197   \n",
       "8  гражданский брак                 1      F   сотрудник     0   95856.832424   \n",
       "9   женат / замужем                 0      M   сотрудник     0  144425.938277   \n",
       "\n",
       "                      purpose  \n",
       "0               покупка жилья  \n",
       "1     приобретение автомобиля  \n",
       "2               покупка жилья  \n",
       "3  дополнительное образование  \n",
       "4             сыграть свадьбу  \n",
       "5               покупка жилья  \n",
       "6           операции с жильем  \n",
       "7                 образование  \n",
       "8       на проведение свадьбы  \n",
       "9     покупка жилья для семьи  "
      ]
     },
     "execution_count": 3,
     "metadata": {},
     "output_type": "execute_result"
    }
   ],
   "source": [
    "# Выведим первые 10 строчек датафрейма data на экран.\n",
    "data.head(10)"
   ]
  },
  {
   "cell_type": "code",
   "execution_count": 4,
   "id": "f500b384",
   "metadata": {},
   "outputs": [
    {
     "name": "stdout",
     "output_type": "stream",
     "text": [
      "<class 'pandas.core.frame.DataFrame'>\n",
      "RangeIndex: 21525 entries, 0 to 21524\n",
      "Data columns (total 12 columns):\n",
      " #   Column            Non-Null Count  Dtype  \n",
      "---  ------            --------------  -----  \n",
      " 0   children          21525 non-null  int64  \n",
      " 1   days_employed     19351 non-null  float64\n",
      " 2   dob_years         21525 non-null  int64  \n",
      " 3   education         21525 non-null  object \n",
      " 4   education_id      21525 non-null  int64  \n",
      " 5   family_status     21525 non-null  object \n",
      " 6   family_status_id  21525 non-null  int64  \n",
      " 7   gender            21525 non-null  object \n",
      " 8   income_type       21525 non-null  object \n",
      " 9   debt              21525 non-null  int64  \n",
      " 10  total_income      19351 non-null  float64\n",
      " 11  purpose           21525 non-null  object \n",
      "dtypes: float64(2), int64(5), object(5)\n",
      "memory usage: 2.0+ MB\n"
     ]
    }
   ],
   "source": [
    "# Выведим основную информацию о датафрейме\n",
    "data.info()"
   ]
  },
  {
   "cell_type": "markdown",
   "id": "2b2f9524",
   "metadata": {},
   "source": [
    "## Предобработка данных\n",
    "\n",
    "### Удаление пропусков"
   ]
  },
  {
   "cell_type": "code",
   "execution_count": 5,
   "id": "8d59bf63",
   "metadata": {},
   "outputs": [
    {
     "data": {
      "text/plain": [
       "children               0\n",
       "days_employed       2174\n",
       "dob_years              0\n",
       "education              0\n",
       "education_id           0\n",
       "family_status          0\n",
       "family_status_id       0\n",
       "gender                 0\n",
       "income_type            0\n",
       "debt                   0\n",
       "total_income        2174\n",
       "purpose                0\n",
       "dtype: int64"
      ]
     },
     "execution_count": 5,
     "metadata": {},
     "output_type": "execute_result"
    }
   ],
   "source": [
    "# Выводим количество пропущенных значений для каждого столбца\n",
    "data.isna().sum()"
   ]
  },
  {
   "cell_type": "markdown",
   "id": "addd8613",
   "metadata": {},
   "source": [
    "В двух столбцах есть пропущенные значения. Один из них — `days_employed`. Пропуски в этом столбце мы обработаем на следующем этапе. Другой столбец с пропущенными значениями — `total_income` — хранит данные о доходах. На сумму дохода сильнее всего влияет тип занятости, поэтому заполнить пропуски в этом столбце нужно медианным значением по каждому типу из столбца `income_type`. "
   ]
  },
  {
   "cell_type": "code",
   "execution_count": 6,
   "id": "69c1f117",
   "metadata": {},
   "outputs": [],
   "source": [
    "# Заполняем пропуски в этом столбце total_income медианным значением по каждому типу занятости из столбца income_type\n",
    "for d in data['income_type'].unique():\n",
    "    data.loc[(data['income_type'] == d) & (data['total_income'].isna()), 'total_income'] = \\\n",
    "    data.loc[data['income_type'] == d, 'total_income'].median()"
   ]
  },
  {
   "cell_type": "code",
   "execution_count": 7,
   "id": "bd682836",
   "metadata": {},
   "outputs": [
    {
     "data": {
      "text/plain": [
       "0"
      ]
     },
     "execution_count": 7,
     "metadata": {},
     "output_type": "execute_result"
    }
   ],
   "source": [
    "# Проверим, что пропусков в столбце total_income теперь нет\n",
    "data['total_income'].isna().sum() "
   ]
  },
  {
   "cell_type": "markdown",
   "id": "9f43fadf",
   "metadata": {},
   "source": [
    "### Обработка аномальных значений\n",
    "\n",
    "В данных могут встречаться артефакты (аномалии) — значения, которые не отражают действительность и появились по какой-то ошибке. Таким артефактом будет отрицательное количество дней трудового стажа в столбце `days_employed`. Для реальных данных это нормально. Далее обработаем значения в этом столбце: заменим все отрицательные значения положительными с помощью метода `abs()`."
   ]
  },
  {
   "cell_type": "code",
   "execution_count": 8,
   "id": "9a6bbee0",
   "metadata": {},
   "outputs": [],
   "source": [
    "# Обработаем значения в столбце days_employed: заменим все отрицательные значения положительными\n",
    "data['days_employed'] = data['days_employed'].abs()"
   ]
  },
  {
   "cell_type": "code",
   "execution_count": 9,
   "id": "624eb822",
   "metadata": {},
   "outputs": [
    {
     "data": {
      "text/plain": [
       "income_type\n",
       "безработный        366413.652744\n",
       "в декрете            3296.759962\n",
       "госслужащий          2689.368353\n",
       "компаньон            1547.382223\n",
       "пенсионер          365213.306266\n",
       "предприниматель       520.848083\n",
       "сотрудник            1574.202821\n",
       "студент               578.751554\n",
       "Name: days_employed, dtype: float64"
      ]
     },
     "execution_count": 9,
     "metadata": {},
     "output_type": "execute_result"
    }
   ],
   "source": [
    "# Для каждого типа занятости выведим медианное значение трудового стажа days_employed в днях\n",
    "data.groupby('income_type')['days_employed'].median()"
   ]
  },
  {
   "cell_type": "markdown",
   "id": "29a773cd",
   "metadata": {},
   "source": [
    "У двух типов (безработные и пенсионеры) получатся аномально большие значения. Исправить такие значения сложно, поэтому оставляем их как есть."
   ]
  },
  {
   "cell_type": "code",
   "execution_count": 10,
   "id": "9fef494f",
   "metadata": {},
   "outputs": [
    {
     "data": {
      "text/plain": [
       "array([ 1,  0,  3,  2, -1,  4, 20,  5], dtype=int64)"
      ]
     },
     "execution_count": 10,
     "metadata": {},
     "output_type": "execute_result"
    }
   ],
   "source": [
    "# Выведим перечень уникальных значений столбца children\n",
    "data['children'].unique()"
   ]
  },
  {
   "cell_type": "code",
   "execution_count": 11,
   "id": "52485d7a",
   "metadata": {},
   "outputs": [],
   "source": [
    "# В столбце children удаляем строки, в которых встречаются аномальные значения\n",
    "data = data[(data['children'] != -1) & (data['children'] != 20)]"
   ]
  },
  {
   "cell_type": "code",
   "execution_count": 12,
   "id": "0275a308",
   "metadata": {},
   "outputs": [
    {
     "data": {
      "text/plain": [
       "array([1, 0, 3, 2, 4, 5], dtype=int64)"
      ]
     },
     "execution_count": 12,
     "metadata": {},
     "output_type": "execute_result"
    }
   ],
   "source": [
    "# Выведим перечень уникальных значений столбца children, чтобы убедиться, что артефакты удалены\n",
    "data['children'].unique()"
   ]
  },
  {
   "cell_type": "markdown",
   "id": "5651c011",
   "metadata": {},
   "source": [
    "### Удаление пропусков (продолжение)"
   ]
  },
  {
   "cell_type": "code",
   "execution_count": 13,
   "id": "f1d8f9a7",
   "metadata": {},
   "outputs": [],
   "source": [
    "# Заполняем пропуски в столбце days_employed медианными значениями по каждому типу занятости income_type.\n",
    "for d in data['income_type'].unique():\n",
    "    # 1й вариант решения\n",
    "    filter_income_type = (data['income_type'] == d)\n",
    "    filter_empty_days_employed = data['days_employed'].isna()\n",
    "    days_employed_median = data.loc[filter_income_type, 'days_employed'].median()\n",
    "    \n",
    "    data.loc[filter_income_type & filter_empty_days_employed, 'days_employed'] = days_employed_median\n",
    "    \n",
    "    # 2й вариант решения\n",
    "    # data.loc[(data['income_type'] == d) & (data['days_employed'].isna()), 'days_employed'] = \\\n",
    "    #   data.loc[data['income_type'] == d, 'days_employed'].median()"
   ]
  },
  {
   "cell_type": "code",
   "execution_count": 14,
   "id": "96550083",
   "metadata": {},
   "outputs": [
    {
     "data": {
      "text/plain": [
       "children            0\n",
       "days_employed       0\n",
       "dob_years           0\n",
       "education           0\n",
       "education_id        0\n",
       "family_status       0\n",
       "family_status_id    0\n",
       "gender              0\n",
       "income_type         0\n",
       "debt                0\n",
       "total_income        0\n",
       "purpose             0\n",
       "dtype: int64"
      ]
     },
     "execution_count": 14,
     "metadata": {},
     "output_type": "execute_result"
    }
   ],
   "source": [
    "# Проверим все колонки на наличие пропусков - убедимся, что в их отсутствии\n",
    "data.isna().sum()  "
   ]
  },
  {
   "cell_type": "markdown",
   "id": "641714e6",
   "metadata": {},
   "source": [
    "### Изменение типов данных"
   ]
  },
  {
   "cell_type": "code",
   "execution_count": 15,
   "id": "956feda5",
   "metadata": {},
   "outputs": [
    {
     "name": "stdout",
     "output_type": "stream",
     "text": [
      "<class 'pandas.core.frame.DataFrame'>\n",
      "Index: 21402 entries, 0 to 21524\n",
      "Data columns (total 12 columns):\n",
      " #   Column            Non-Null Count  Dtype  \n",
      "---  ------            --------------  -----  \n",
      " 0   children          21402 non-null  int64  \n",
      " 1   days_employed     21402 non-null  float64\n",
      " 2   dob_years         21402 non-null  int64  \n",
      " 3   education         21402 non-null  object \n",
      " 4   education_id      21402 non-null  int64  \n",
      " 5   family_status     21402 non-null  object \n",
      " 6   family_status_id  21402 non-null  int64  \n",
      " 7   gender            21402 non-null  object \n",
      " 8   income_type       21402 non-null  object \n",
      " 9   debt              21402 non-null  int64  \n",
      " 10  total_income      21402 non-null  float64\n",
      " 11  purpose           21402 non-null  object \n",
      "dtypes: float64(2), int64(5), object(5)\n",
      "memory usage: 2.1+ MB\n"
     ]
    }
   ],
   "source": [
    "# Выведем общую информацию о датасете и обратим внимание на тип данных в столбце total_income\n",
    "data.info()"
   ]
  },
  {
   "cell_type": "code",
   "execution_count": 16,
   "id": "0925ae02",
   "metadata": {},
   "outputs": [
    {
     "name": "stdout",
     "output_type": "stream",
     "text": [
      "<class 'pandas.core.frame.DataFrame'>\n",
      "Index: 21402 entries, 0 to 21524\n",
      "Data columns (total 12 columns):\n",
      " #   Column            Non-Null Count  Dtype  \n",
      "---  ------            --------------  -----  \n",
      " 0   children          21402 non-null  int64  \n",
      " 1   days_employed     21402 non-null  float64\n",
      " 2   dob_years         21402 non-null  int64  \n",
      " 3   education         21402 non-null  object \n",
      " 4   education_id      21402 non-null  int64  \n",
      " 5   family_status     21402 non-null  object \n",
      " 6   family_status_id  21402 non-null  int64  \n",
      " 7   gender            21402 non-null  object \n",
      " 8   income_type       21402 non-null  object \n",
      " 9   debt              21402 non-null  int64  \n",
      " 10  total_income      21402 non-null  int32  \n",
      " 11  purpose           21402 non-null  object \n",
      "dtypes: float64(1), int32(1), int64(5), object(5)\n",
      "memory usage: 2.0+ MB\n"
     ]
    }
   ],
   "source": [
    "# Заменяем вещественный тип данных в столбце total_income на целочисленный с помощью метода astype()\n",
    "data['total_income'] = data['total_income'].astype('int')\n",
    "\n",
    "# Проверим, что тип данных поменялся\n",
    "data.info()"
   ]
  },
  {
   "cell_type": "markdown",
   "id": "3284d312",
   "metadata": {},
   "source": [
    "### Обработка дубликатов"
   ]
  },
  {
   "cell_type": "code",
   "execution_count": 17,
   "id": "e9874bac",
   "metadata": {},
   "outputs": [],
   "source": [
    "# Обработаем неявные дубликаты в столбце education. В этом столбце есть одни и те же значения, но записанные по-разному: \n",
    "# с использованием заглавных и строчных букв. Приводим их нижнему регистру.\n",
    "data['education'] = data['education'].str.lower()"
   ]
  },
  {
   "cell_type": "code",
   "execution_count": 18,
   "id": "6b42f3fe",
   "metadata": {},
   "outputs": [
    {
     "data": {
      "text/plain": [
       "71"
      ]
     },
     "execution_count": 18,
     "metadata": {},
     "output_type": "execute_result"
    }
   ],
   "source": [
    "# Выводим на экран количество строк-дубликатов в данных.\n",
    "data.duplicated().sum()"
   ]
  },
  {
   "cell_type": "code",
   "execution_count": 19,
   "id": "5d21bee5",
   "metadata": {},
   "outputs": [
    {
     "name": "stdout",
     "output_type": "stream",
     "text": [
      "0\n"
     ]
    }
   ],
   "source": [
    "# Удаляем дубликаты\n",
    "data = data.drop_duplicates()\n",
    "print(data.duplicated().sum())"
   ]
  },
  {
   "cell_type": "code",
   "execution_count": 20,
   "id": "4e8895a0",
   "metadata": {},
   "outputs": [],
   "source": [
    "# Создаем в датафрейме data столбец total_income_category с категориями:\n",
    "# 0–30000 — 'E';\n",
    "# 30001–50000 — 'D';\n",
    "# 50001–200000 — 'C';\n",
    "# 200001–1000000 — 'B';\n",
    "# 1000001 и выше — 'A'.\n",
    "# Создаем функцию categorize_income()\n",
    "def categorize_income(total_income):\n",
    "     if total_income <= 30000:\n",
    "        return 'E'\n",
    "     if total_income <= 50000:\n",
    "        return 'D'\n",
    "     if total_income <=200000:\n",
    "        return 'C'\n",
    "     if total_income <= 1000000:\n",
    "        return 'B'\n",
    "     return 'A'"
   ]
  },
  {
   "cell_type": "code",
   "execution_count": 21,
   "id": "d2d8cfb0",
   "metadata": {},
   "outputs": [
    {
     "name": "stdout",
     "output_type": "stream",
     "text": [
      "   children  days_employed  dob_years education  education_id  \\\n",
      "0         1    8437.673028         42    высшее             0   \n",
      "1         1    4024.803754         36   среднее             1   \n",
      "2         0    5623.422610         33   среднее             1   \n",
      "3         3    4124.747207         32   среднее             1   \n",
      "4         0  340266.072047         53   среднее             1   \n",
      "5         0     926.185831         27    высшее             0   \n",
      "6         0    2879.202052         43    высшее             0   \n",
      "7         0     152.779569         50   среднее             1   \n",
      "8         2    6929.865299         35    высшее             0   \n",
      "9         0    2188.756445         41   среднее             1   \n",
      "\n",
      "      family_status  family_status_id gender income_type  debt  total_income  \\\n",
      "0   женат / замужем                 0      F   сотрудник     0        253875   \n",
      "1   женат / замужем                 0      F   сотрудник     0        112080   \n",
      "2   женат / замужем                 0      M   сотрудник     0        145885   \n",
      "3   женат / замужем                 0      M   сотрудник     0        267628   \n",
      "4  гражданский брак                 1      F   пенсионер     0        158616   \n",
      "5  гражданский брак                 1      M   компаньон     0        255763   \n",
      "6   женат / замужем                 0      F   компаньон     0        240525   \n",
      "7   женат / замужем                 0      M   сотрудник     0        135823   \n",
      "8  гражданский брак                 1      F   сотрудник     0         95856   \n",
      "9   женат / замужем                 0      M   сотрудник     0        144425   \n",
      "\n",
      "                      purpose total_income_category  \n",
      "0               покупка жилья                     B  \n",
      "1     приобретение автомобиля                     C  \n",
      "2               покупка жилья                     C  \n",
      "3  дополнительное образование                     B  \n",
      "4             сыграть свадьбу                     C  \n",
      "5               покупка жилья                     B  \n",
      "6           операции с жильем                     B  \n",
      "7                 образование                     C  \n",
      "8       на проведение свадьбы                     C  \n",
      "9     покупка жилья для семьи                     C  \n"
     ]
    }
   ],
   "source": [
    "# Применим функцию методом apply()\n",
    "# Создаем новый столбец с категориями\n",
    "data['total_income_category'] = data['total_income'].apply(categorize_income)\n",
    "print(data.head(10))"
   ]
  },
  {
   "cell_type": "code",
   "execution_count": 22,
   "id": "ec349783",
   "metadata": {},
   "outputs": [
    {
     "name": "stdout",
     "output_type": "stream",
     "text": [
      "['покупка жилья' 'приобретение автомобиля' 'дополнительное образование'\n",
      " 'сыграть свадьбу' 'операции с жильем' 'образование'\n",
      " 'на проведение свадьбы' 'покупка жилья для семьи' 'покупка недвижимости'\n",
      " 'покупка коммерческой недвижимости' 'покупка жилой недвижимости'\n",
      " 'строительство собственной недвижимости' 'недвижимость'\n",
      " 'строительство недвижимости' 'на покупку подержанного автомобиля'\n",
      " 'на покупку своего автомобиля' 'операции с коммерческой недвижимостью'\n",
      " 'строительство жилой недвижимости' 'жилье'\n",
      " 'операции со своей недвижимостью' 'автомобили' 'заняться образованием'\n",
      " 'сделка с подержанным автомобилем' 'получение образования' 'автомобиль'\n",
      " 'свадьба' 'получение дополнительного образования' 'покупка своего жилья'\n",
      " 'операции с недвижимостью' 'получение высшего образования'\n",
      " 'свой автомобиль' 'сделка с автомобилем' 'профильное образование'\n",
      " 'высшее образование' 'покупка жилья для сдачи' 'на покупку автомобиля'\n",
      " 'ремонт жилью' 'заняться высшим образованием']\n"
     ]
    }
   ],
   "source": [
    "# Выведим на экран перечень уникальных целей взятия кредита из столбца purpose.\n",
    "print(data['purpose'].unique())"
   ]
  },
  {
   "cell_type": "code",
   "execution_count": 23,
   "id": "0644dbe6",
   "metadata": {},
   "outputs": [],
   "source": [
    "# Создаем функцию categorize_purpose(), которая на основании данных из столбца purpose сформирует новый столбец purpose_category, \n",
    "# в который войдут следующие категории:\n",
    "# 1.'операции с автомобилем',\n",
    "# 2.'операции с недвижимостью',\n",
    "# 3.'проведение свадьбы',\n",
    "# 4.'получение образования'.\n",
    "def categorize_purpose(purpose):\n",
    "    if purpose in ['приобретение автомобиля', 'на покупку подержанного автомобиля', \\\n",
    "                   'на покупку своего автомобиля', 'автомобили', 'сделка с подержанным автомобилем',\\\n",
    "                   'автомобиль', 'свой автомобиль', 'сделка с автомобилем', 'на покупку автомобиля']:\n",
    "        return 'операции с автомобилем'\n",
    "    if purpose in ['покупка жилья', 'операции с жильем', 'покупка жилья для семьи', \\\n",
    "                   'покупка недвижимости', 'покупка коммерческой недвижимости',\\\n",
    "                   'покупка жилой недвижимости', 'строительство собственной недвижимости',\\\n",
    "                   'недвижимость', 'строительство недвижимости', 'операции с коммерческой недвижимостью',\\\n",
    "                   'строительство жилой недвижимости', 'жилье', 'операции со своей недвижимостью',\\\n",
    "                   'покупка своего жилья', 'операции с недвижимостью', 'покупка жилья для сдачи', 'ремонт жилью']:\n",
    "        return 'операции с недвижимостью'\n",
    "    if purpose in ['сыграть свадьбу', 'на проведение свадьбы', 'свадьба']:\n",
    "        return 'проведение свадьбы'\n",
    "    if purpose in ['дополнительное образование', 'образование', 'заняться образованием', 'получение образования',\\\n",
    "                  'получение дополнительного образования', 'получение высшего образования',\\\n",
    "                   'профильное образование', 'высшее образование', 'заняться высшим образованием']:\n",
    "        return 'получение образования'    "
   ]
  },
  {
   "cell_type": "code",
   "execution_count": 24,
   "id": "9c41c677",
   "metadata": {},
   "outputs": [
    {
     "name": "stdout",
     "output_type": "stream",
     "text": [
      "   children  days_employed  dob_years education  education_id  \\\n",
      "0         1    8437.673028         42    высшее             0   \n",
      "1         1    4024.803754         36   среднее             1   \n",
      "2         0    5623.422610         33   среднее             1   \n",
      "3         3    4124.747207         32   среднее             1   \n",
      "4         0  340266.072047         53   среднее             1   \n",
      "5         0     926.185831         27    высшее             0   \n",
      "6         0    2879.202052         43    высшее             0   \n",
      "7         0     152.779569         50   среднее             1   \n",
      "8         2    6929.865299         35    высшее             0   \n",
      "9         0    2188.756445         41   среднее             1   \n",
      "\n",
      "      family_status  family_status_id gender income_type  debt  total_income  \\\n",
      "0   женат / замужем                 0      F   сотрудник     0        253875   \n",
      "1   женат / замужем                 0      F   сотрудник     0        112080   \n",
      "2   женат / замужем                 0      M   сотрудник     0        145885   \n",
      "3   женат / замужем                 0      M   сотрудник     0        267628   \n",
      "4  гражданский брак                 1      F   пенсионер     0        158616   \n",
      "5  гражданский брак                 1      M   компаньон     0        255763   \n",
      "6   женат / замужем                 0      F   компаньон     0        240525   \n",
      "7   женат / замужем                 0      M   сотрудник     0        135823   \n",
      "8  гражданский брак                 1      F   сотрудник     0         95856   \n",
      "9   женат / замужем                 0      M   сотрудник     0        144425   \n",
      "\n",
      "                      purpose total_income_category          purpose_category  \n",
      "0               покупка жилья                     B  операции с недвижимостью  \n",
      "1     приобретение автомобиля                     C    операции с автомобилем  \n",
      "2               покупка жилья                     C  операции с недвижимостью  \n",
      "3  дополнительное образование                     B     получение образования  \n",
      "4             сыграть свадьбу                     C        проведение свадьбы  \n",
      "5               покупка жилья                     B  операции с недвижимостью  \n",
      "6           операции с жильем                     B  операции с недвижимостью  \n",
      "7                 образование                     C     получение образования  \n",
      "8       на проведение свадьбы                     C        проведение свадьбы  \n",
      "9     покупка жилья для семьи                     C  операции с недвижимостью  \n"
     ]
    }
   ],
   "source": [
    "# Применим функцию методом apply()\n",
    "data['purpose_category'] = data['purpose'].apply(categorize_purpose)\n",
    "print(data.head(10))"
   ]
  },
  {
   "cell_type": "code",
   "execution_count": 25,
   "id": "49922ade",
   "metadata": {},
   "outputs": [
    {
     "data": {
      "text/html": [
       "<div>\n",
       "<style scoped>\n",
       "    .dataframe tbody tr th:only-of-type {\n",
       "        vertical-align: middle;\n",
       "    }\n",
       "\n",
       "    .dataframe tbody tr th {\n",
       "        vertical-align: top;\n",
       "    }\n",
       "\n",
       "    .dataframe thead th {\n",
       "        text-align: right;\n",
       "    }\n",
       "</style>\n",
       "<table border=\"1\" class=\"dataframe\">\n",
       "  <thead>\n",
       "    <tr style=\"text-align: right;\">\n",
       "      <th></th>\n",
       "      <th>mean</th>\n",
       "      <th>count</th>\n",
       "    </tr>\n",
       "    <tr>\n",
       "      <th>children</th>\n",
       "      <th></th>\n",
       "      <th></th>\n",
       "    </tr>\n",
       "  </thead>\n",
       "  <tbody>\n",
       "    <tr>\n",
       "      <th>0</th>\n",
       "      <td>0.075438</td>\n",
       "      <td>14091</td>\n",
       "    </tr>\n",
       "    <tr>\n",
       "      <th>1</th>\n",
       "      <td>0.092346</td>\n",
       "      <td>4808</td>\n",
       "    </tr>\n",
       "    <tr>\n",
       "      <th>2</th>\n",
       "      <td>0.094542</td>\n",
       "      <td>2052</td>\n",
       "    </tr>\n",
       "    <tr>\n",
       "      <th>3</th>\n",
       "      <td>0.081818</td>\n",
       "      <td>330</td>\n",
       "    </tr>\n",
       "    <tr>\n",
       "      <th>4</th>\n",
       "      <td>0.097561</td>\n",
       "      <td>41</td>\n",
       "    </tr>\n",
       "    <tr>\n",
       "      <th>5</th>\n",
       "      <td>0.000000</td>\n",
       "      <td>9</td>\n",
       "    </tr>\n",
       "  </tbody>\n",
       "</table>\n",
       "</div>"
      ],
      "text/plain": [
       "              mean  count\n",
       "children                 \n",
       "0         0.075438  14091\n",
       "1         0.092346   4808\n",
       "2         0.094542   2052\n",
       "3         0.081818    330\n",
       "4         0.097561     41\n",
       "5         0.000000      9"
      ]
     },
     "execution_count": 25,
     "metadata": {},
     "output_type": "execute_result"
    }
   ],
   "source": [
    "# Сгруппируем датасет по количеству детей и рассчитаем для каждой группы среднее значение признака \n",
    "# наличия задолженности по возврату кредитов. Также посчитаем количество строк для каждой группы клиентов.\n",
    "data.groupby('children')['debt'].agg(['mean', 'count'])"
   ]
  },
  {
   "cell_type": "markdown",
   "id": "7ea4fa4e",
   "metadata": {},
   "source": [
    "Вывод: Прослеживается следующая зависимость между количеством детей и возвратом кредита в срок: заемщики без детей чаще возвращают кредиты в срок. При этом, в анализе мы не учитываем категории с тремя, четырьмя и пятью детьми, так как выборки нерепрезентативны, слишком мало значений, в сумме менее 2%."
   ]
  },
  {
   "cell_type": "code",
   "execution_count": 26,
   "id": "d04767c8",
   "metadata": {},
   "outputs": [
    {
     "data": {
      "text/html": [
       "<div>\n",
       "<style scoped>\n",
       "    .dataframe tbody tr th:only-of-type {\n",
       "        vertical-align: middle;\n",
       "    }\n",
       "\n",
       "    .dataframe tbody tr th {\n",
       "        vertical-align: top;\n",
       "    }\n",
       "\n",
       "    .dataframe thead th {\n",
       "        text-align: right;\n",
       "    }\n",
       "</style>\n",
       "<table border=\"1\" class=\"dataframe\">\n",
       "  <thead>\n",
       "    <tr style=\"text-align: right;\">\n",
       "      <th></th>\n",
       "      <th>mean</th>\n",
       "      <th>count</th>\n",
       "    </tr>\n",
       "    <tr>\n",
       "      <th>family_status</th>\n",
       "      <th></th>\n",
       "      <th></th>\n",
       "    </tr>\n",
       "  </thead>\n",
       "  <tbody>\n",
       "    <tr>\n",
       "      <th>Не женат / не замужем</th>\n",
       "      <td>0.097639</td>\n",
       "      <td>2796</td>\n",
       "    </tr>\n",
       "    <tr>\n",
       "      <th>в разводе</th>\n",
       "      <td>0.070648</td>\n",
       "      <td>1189</td>\n",
       "    </tr>\n",
       "    <tr>\n",
       "      <th>вдовец / вдова</th>\n",
       "      <td>0.066246</td>\n",
       "      <td>951</td>\n",
       "    </tr>\n",
       "    <tr>\n",
       "      <th>гражданский брак</th>\n",
       "      <td>0.093130</td>\n",
       "      <td>4134</td>\n",
       "    </tr>\n",
       "    <tr>\n",
       "      <th>женат / замужем</th>\n",
       "      <td>0.075606</td>\n",
       "      <td>12261</td>\n",
       "    </tr>\n",
       "  </tbody>\n",
       "</table>\n",
       "</div>"
      ],
      "text/plain": [
       "                           mean  count\n",
       "family_status                         \n",
       "Не женат / не замужем  0.097639   2796\n",
       "в разводе              0.070648   1189\n",
       "вдовец / вдова         0.066246    951\n",
       "гражданский брак       0.093130   4134\n",
       "женат / замужем        0.075606  12261"
      ]
     },
     "execution_count": 26,
     "metadata": {},
     "output_type": "execute_result"
    }
   ],
   "source": [
    "# Сгруппируем датасет по семейному положению и рассчитаем для каждой группы среднее значение признака \n",
    "# наличия задолженности по возврату кредитов. Также посчитаем количество строк для каждой группы клиентов.\n",
    "data.groupby('family_status')['debt'].agg(['mean', 'count'])"
   ]
  },
  {
   "cell_type": "markdown",
   "id": "f25e3f18",
   "metadata": {},
   "source": [
    "Вывод: Прослеживается небольшая зависимость между семейным положением и возвратом кредита в срок:\n",
    "\n",
    "- клиенты со статусами \"Не женат / не замужем\" и \"гражданский брак\" имеют самый высокий процент по невозврату кредитов.\n",
    "- клиенты со статусом \"вдовец / вдова\" имеют самый низкий процент по невозврату кредитов."
   ]
  },
  {
   "cell_type": "code",
   "execution_count": 27,
   "id": "fba7caa6",
   "metadata": {},
   "outputs": [
    {
     "data": {
      "text/html": [
       "<div>\n",
       "<style scoped>\n",
       "    .dataframe tbody tr th:only-of-type {\n",
       "        vertical-align: middle;\n",
       "    }\n",
       "\n",
       "    .dataframe tbody tr th {\n",
       "        vertical-align: top;\n",
       "    }\n",
       "\n",
       "    .dataframe thead th {\n",
       "        text-align: right;\n",
       "    }\n",
       "</style>\n",
       "<table border=\"1\" class=\"dataframe\">\n",
       "  <thead>\n",
       "    <tr style=\"text-align: right;\">\n",
       "      <th></th>\n",
       "      <th>mean</th>\n",
       "      <th>count</th>\n",
       "    </tr>\n",
       "    <tr>\n",
       "      <th>total_income_category</th>\n",
       "      <th></th>\n",
       "      <th></th>\n",
       "    </tr>\n",
       "  </thead>\n",
       "  <tbody>\n",
       "    <tr>\n",
       "      <th>A</th>\n",
       "      <td>0.080000</td>\n",
       "      <td>25</td>\n",
       "    </tr>\n",
       "    <tr>\n",
       "      <th>B</th>\n",
       "      <td>0.070602</td>\n",
       "      <td>5014</td>\n",
       "    </tr>\n",
       "    <tr>\n",
       "      <th>C</th>\n",
       "      <td>0.084982</td>\n",
       "      <td>15921</td>\n",
       "    </tr>\n",
       "    <tr>\n",
       "      <th>D</th>\n",
       "      <td>0.060172</td>\n",
       "      <td>349</td>\n",
       "    </tr>\n",
       "    <tr>\n",
       "      <th>E</th>\n",
       "      <td>0.090909</td>\n",
       "      <td>22</td>\n",
       "    </tr>\n",
       "  </tbody>\n",
       "</table>\n",
       "</div>"
      ],
      "text/plain": [
       "                           mean  count\n",
       "total_income_category                 \n",
       "A                      0.080000     25\n",
       "B                      0.070602   5014\n",
       "C                      0.084982  15921\n",
       "D                      0.060172    349\n",
       "E                      0.090909     22"
      ]
     },
     "execution_count": 27,
     "metadata": {},
     "output_type": "execute_result"
    }
   ],
   "source": [
    "# Сгруппируем датасет по категории дохода и рассчитаем для каждой группы среднее значение признака \n",
    "# наличия задолженности по возврату кредитов. Также посчитаем количество строк для каждой категории.\n",
    "data.groupby('total_income_category')['debt'].agg(['mean', 'count'])"
   ]
  },
  {
   "cell_type": "markdown",
   "id": "639be410",
   "metadata": {},
   "source": [
    "Вывод: Категории с самым высоким уровнем дохода и самым низким можно не учитывать, так как выборка мала. В оставшихся категориях четкая зависимость не прослеживается."
   ]
  },
  {
   "cell_type": "code",
   "execution_count": 28,
   "id": "650c3f89",
   "metadata": {},
   "outputs": [
    {
     "data": {
      "text/html": [
       "<div>\n",
       "<style scoped>\n",
       "    .dataframe tbody tr th:only-of-type {\n",
       "        vertical-align: middle;\n",
       "    }\n",
       "\n",
       "    .dataframe tbody tr th {\n",
       "        vertical-align: top;\n",
       "    }\n",
       "\n",
       "    .dataframe thead th {\n",
       "        text-align: right;\n",
       "    }\n",
       "</style>\n",
       "<table border=\"1\" class=\"dataframe\">\n",
       "  <thead>\n",
       "    <tr style=\"text-align: right;\">\n",
       "      <th></th>\n",
       "      <th>mean</th>\n",
       "      <th>count</th>\n",
       "    </tr>\n",
       "    <tr>\n",
       "      <th>purpose_category</th>\n",
       "      <th></th>\n",
       "      <th></th>\n",
       "    </tr>\n",
       "  </thead>\n",
       "  <tbody>\n",
       "    <tr>\n",
       "      <th>операции с автомобилем</th>\n",
       "      <td>0.093480</td>\n",
       "      <td>4279</td>\n",
       "    </tr>\n",
       "    <tr>\n",
       "      <th>операции с недвижимостью</th>\n",
       "      <td>0.072551</td>\n",
       "      <td>10751</td>\n",
       "    </tr>\n",
       "    <tr>\n",
       "      <th>получение образования</th>\n",
       "      <td>0.092528</td>\n",
       "      <td>3988</td>\n",
       "    </tr>\n",
       "    <tr>\n",
       "      <th>проведение свадьбы</th>\n",
       "      <td>0.079118</td>\n",
       "      <td>2313</td>\n",
       "    </tr>\n",
       "  </tbody>\n",
       "</table>\n",
       "</div>"
      ],
      "text/plain": [
       "                              mean  count\n",
       "purpose_category                         \n",
       "операции с автомобилем    0.093480   4279\n",
       "операции с недвижимостью  0.072551  10751\n",
       "получение образования     0.092528   3988\n",
       "проведение свадьбы        0.079118   2313"
      ]
     },
     "execution_count": 28,
     "metadata": {},
     "output_type": "execute_result"
    }
   ],
   "source": [
    "# Сгруппируем датасет по категории цель кредита и рассчитаем для каждой группы среднее значение признака \n",
    "# наличия задолженности по возврату кредитов. Также посчитаем количество строк для каждой категории.\n",
    "data.groupby('purpose_category')['debt'].agg(['mean', 'count'])"
   ]
  },
  {
   "cell_type": "markdown",
   "id": "9a8f8ade",
   "metadata": {},
   "source": [
    "Вывод: Прослеживается зависимость:\n",
    "\n",
    "- самые ответственные заемщики - это клиенты из категорий \"операции с недвижимостью\" и \"проведение свадьбы\".\n",
    "- хуже обстоят дела с категориями \"операции с автомобилем\" и \"получение образования\". Они чаще не возвращают кредиты."
   ]
  },
  {
   "cell_type": "markdown",
   "id": "96d59897",
   "metadata": {},
   "source": [
    "Пропуски в данных могут возникнуть по следующим причинам:\n",
    "\n",
    "1. Поля, в которых возникли пропуски, были необязательными к заполнению.\n",
    "2. Некорректно были введены данные.\n",
    "3. Ошибка оператора при переносе данных с бумажного носителя на электорнный.\n",
    "4. Возможно, у респондента отсутствовала необходимая информация на момент заполнения анкеты/формы.\n",
    "5. Ошибка в коде формы, из-за чего некорректно обрабатывается вводимая респондентом информация."
   ]
  },
  {
   "cell_type": "markdown",
   "id": "4a3f6bee",
   "metadata": {},
   "source": [
    "Заполнить пропуски медианным значением — лучшее решение для количественных переменных, так как оно учитывает большие всплески в значениях выборки, в отличие от среднего значения. При наличии больших всплесков в значениях, среднее арифмитическое сместит распределение."
   ]
  },
  {
   "cell_type": "markdown",
   "id": "ed5d9690",
   "metadata": {},
   "source": [
    "В результате исследования датасета \"data\" были изучены данные, заполнены пропуски, удалены дубликаты. По результатам объединения клиентов по разным параметрам можно сделать выводы:\n",
    "\n",
    "Прослеживается следующая зависимость между количеством детей и возвратом кредита в срок: заемщики без детей чаще возвращают кредиты в срок. При этом, в анализе мы не учитываем категории с тремя, четырьмя и пятью детьми, так как выборки нерепрезентативны, слишком мало значений, в сумме менее 2%.\n",
    "Прослеживается нечеткая зависимость между семейным положением и возвратом кредита в срок:\n",
    "клиенты со статусами \"Не женат / не замужем\" и \"гражданский брак\" имеют самый высокий процент по невозврату кредитов.\n",
    "клиенты со статусом \"вдовец / вдова\" имеют самый низкий процент по невозврату кредитов.\n",
    "Нет явной зависимости между уровнем дохода и возвратом кредита в срок.\n",
    "Прослеживается зависимость между целью кредита и возвратом кредита в срок:\n",
    "самые ответственные заемщики - это клиенты из категорий \"операции с недвижимостью\" и \"проведение свадьбы\".\n",
    "хуже обстоят дела с категориями \"операции с автомобилем\" и \"получение образования\". Они чаще не возвращают кредиты."
   ]
  }
 ],
 "metadata": {
  "kernelspec": {
   "display_name": "Python 3 (ipykernel)",
   "language": "python",
   "name": "python3"
  },
  "language_info": {
   "codemirror_mode": {
    "name": "ipython",
    "version": 3
   },
   "file_extension": ".py",
   "mimetype": "text/x-python",
   "name": "python",
   "nbconvert_exporter": "python",
   "pygments_lexer": "ipython3",
   "version": "3.11.5"
  }
 },
 "nbformat": 4,
 "nbformat_minor": 5
}
